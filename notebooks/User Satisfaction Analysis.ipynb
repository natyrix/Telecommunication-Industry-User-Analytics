{
 "cells": [
  {
   "cell_type": "markdown",
   "metadata": {},
   "source": [
    "## User Satisfaction Analysis"
   ]
  },
  {
   "cell_type": "markdown",
   "metadata": {},
   "source": [
    "#### Import Modules"
   ]
  },
  {
   "cell_type": "code",
   "execution_count": 1,
   "metadata": {},
   "outputs": [],
   "source": [
    "import pickle\n",
    "import numpy as np\n",
    "import pandas as pd\n",
    "import math\n",
    "from sklearn import metrics\n",
    "from sklearn.cluster import KMeans\n",
    "from sklearn.preprocessing import StandardScaler, normalize\n",
    "from scipy.spatial.distance import cdist\n",
    "import matplotlib.pyplot as plt\n",
    "import seaborn as sns\n",
    "import plotly.express as px\n",
    "import plotly.graph_objects as go\n",
    "from plotly.subplots import make_subplots\n",
    "\n",
    "import sys, os\n",
    "sys.path.append(os.path.abspath(os.path.join('../scripts')))\n",
    "from plot_dataframe import PlotDataFrame\n",
    "from utils import Util"
   ]
  },
  {
   "cell_type": "markdown",
   "metadata": {},
   "source": [
    "#### Read Data"
   ]
  },
  {
   "cell_type": "code",
   "execution_count": 2,
   "metadata": {},
   "outputs": [
    {
     "data": {
      "text/html": [
       "<div>\n",
       "<style scoped>\n",
       "    .dataframe tbody tr th:only-of-type {\n",
       "        vertical-align: middle;\n",
       "    }\n",
       "\n",
       "    .dataframe tbody tr th {\n",
       "        vertical-align: top;\n",
       "    }\n",
       "\n",
       "    .dataframe thead th {\n",
       "        text-align: right;\n",
       "    }\n",
       "</style>\n",
       "<table border=\"1\" class=\"dataframe\">\n",
       "  <thead>\n",
       "    <tr style=\"text-align: right;\">\n",
       "      <th></th>\n",
       "      <th>MSISDN/Number</th>\n",
       "      <th>cluster</th>\n",
       "      <th>xDR Sessions</th>\n",
       "      <th>Dur (ms)</th>\n",
       "      <th>Total Data Volume (Bytes)</th>\n",
       "    </tr>\n",
       "  </thead>\n",
       "  <tbody>\n",
       "    <tr>\n",
       "      <th>0</th>\n",
       "      <td>33601001722</td>\n",
       "      <td>1</td>\n",
       "      <td>1.0</td>\n",
       "      <td>116720140.0</td>\n",
       "      <td>8.786906e+08</td>\n",
       "    </tr>\n",
       "    <tr>\n",
       "      <th>1</th>\n",
       "      <td>33601001754</td>\n",
       "      <td>0</td>\n",
       "      <td>1.0</td>\n",
       "      <td>181230963.0</td>\n",
       "      <td>1.568596e+08</td>\n",
       "    </tr>\n",
       "    <tr>\n",
       "      <th>2</th>\n",
       "      <td>33601002511</td>\n",
       "      <td>0</td>\n",
       "      <td>1.0</td>\n",
       "      <td>134969374.0</td>\n",
       "      <td>5.959665e+08</td>\n",
       "    </tr>\n",
       "    <tr>\n",
       "      <th>3</th>\n",
       "      <td>33601007832</td>\n",
       "      <td>3</td>\n",
       "      <td>1.0</td>\n",
       "      <td>49878024.0</td>\n",
       "      <td>4.223207e+08</td>\n",
       "    </tr>\n",
       "    <tr>\n",
       "      <th>4</th>\n",
       "      <td>33601008617</td>\n",
       "      <td>2</td>\n",
       "      <td>2.0</td>\n",
       "      <td>37104453.0</td>\n",
       "      <td>1.457411e+09</td>\n",
       "    </tr>\n",
       "  </tbody>\n",
       "</table>\n",
       "</div>"
      ],
      "text/plain": [
       "   MSISDN/Number  cluster  xDR Sessions     Dur (ms)  \\\n",
       "0    33601001722        1           1.0  116720140.0   \n",
       "1    33601001754        0           1.0  181230963.0   \n",
       "2    33601002511        0           1.0  134969374.0   \n",
       "3    33601007832        3           1.0   49878024.0   \n",
       "4    33601008617        2           2.0   37104453.0   \n",
       "\n",
       "   Total Data Volume (Bytes)  \n",
       "0               8.786906e+08  \n",
       "1               1.568596e+08  \n",
       "2               5.959665e+08  \n",
       "3               4.223207e+08  \n",
       "4               1.457411e+09  "
      ]
     },
     "execution_count": 2,
     "metadata": {},
     "output_type": "execute_result"
    }
   ],
   "source": [
    "df_telco_user_engagement = pd.read_csv(\"../data/telco_user_engagement_data.csv\")\n",
    "df_telco_user_engagement.head()"
   ]
  },
  {
   "cell_type": "code",
   "execution_count": 3,
   "metadata": {},
   "outputs": [
    {
     "data": {
      "text/html": [
       "<div>\n",
       "<style scoped>\n",
       "    .dataframe tbody tr th:only-of-type {\n",
       "        vertical-align: middle;\n",
       "    }\n",
       "\n",
       "    .dataframe tbody tr th {\n",
       "        vertical-align: top;\n",
       "    }\n",
       "\n",
       "    .dataframe thead th {\n",
       "        text-align: right;\n",
       "    }\n",
       "</style>\n",
       "<table border=\"1\" class=\"dataframe\">\n",
       "  <thead>\n",
       "    <tr style=\"text-align: right;\">\n",
       "      <th></th>\n",
       "      <th>MSISDN/Number</th>\n",
       "      <th>cluster</th>\n",
       "      <th>Total Avg RTT (ms)</th>\n",
       "      <th>Total Avg Bearer TP (kbps)</th>\n",
       "      <th>Total TCP Retrans. Vol (Bytes)</th>\n",
       "    </tr>\n",
       "  </thead>\n",
       "  <tbody>\n",
       "    <tr>\n",
       "      <th>0</th>\n",
       "      <td>33601001722</td>\n",
       "      <td>0</td>\n",
       "      <td>46.0</td>\n",
       "      <td>76.0</td>\n",
       "      <td>2895381.0</td>\n",
       "    </tr>\n",
       "    <tr>\n",
       "      <th>1</th>\n",
       "      <td>33601001754</td>\n",
       "      <td>2</td>\n",
       "      <td>31.0</td>\n",
       "      <td>99.0</td>\n",
       "      <td>7685845.5</td>\n",
       "    </tr>\n",
       "    <tr>\n",
       "      <th>2</th>\n",
       "      <td>33601002511</td>\n",
       "      <td>2</td>\n",
       "      <td>59.0</td>\n",
       "      <td>97.0</td>\n",
       "      <td>4150403.0</td>\n",
       "    </tr>\n",
       "    <tr>\n",
       "      <th>3</th>\n",
       "      <td>33601007832</td>\n",
       "      <td>0</td>\n",
       "      <td>84.0</td>\n",
       "      <td>248.0</td>\n",
       "      <td>2396.0</td>\n",
       "    </tr>\n",
       "    <tr>\n",
       "      <th>4</th>\n",
       "      <td>33601008617</td>\n",
       "      <td>1</td>\n",
       "      <td>119.0</td>\n",
       "      <td>43204.5</td>\n",
       "      <td>8047274.5</td>\n",
       "    </tr>\n",
       "  </tbody>\n",
       "</table>\n",
       "</div>"
      ],
      "text/plain": [
       "   MSISDN/Number  cluster  Total Avg RTT (ms)  Total Avg Bearer TP (kbps)  \\\n",
       "0    33601001722        0                46.0                        76.0   \n",
       "1    33601001754        2                31.0                        99.0   \n",
       "2    33601002511        2                59.0                        97.0   \n",
       "3    33601007832        0                84.0                       248.0   \n",
       "4    33601008617        1               119.0                     43204.5   \n",
       "\n",
       "   Total TCP Retrans. Vol (Bytes)  \n",
       "0                       2895381.0  \n",
       "1                       7685845.5  \n",
       "2                       4150403.0  \n",
       "3                          2396.0  \n",
       "4                       8047274.5  "
      ]
     },
     "execution_count": 3,
     "metadata": {},
     "output_type": "execute_result"
    }
   ],
   "source": [
    "df_telco_user_experience = pd.read_csv(\"../data/telco_user_experience_data.csv\")\n",
    "df_telco_user_experience.head()"
   ]
  },
  {
   "cell_type": "markdown",
   "metadata": {},
   "source": [
    "#### Load Models"
   ]
  },
  {
   "cell_type": "code",
   "execution_count": 7,
   "metadata": {},
   "outputs": [],
   "source": [
    "with open(\"../models/telco_user_engagement.pkl\", \"rb\") as f:\n",
    "    model_user_engagement = pickle.load(f)"
   ]
  },
  {
   "cell_type": "code",
   "execution_count": 8,
   "metadata": {},
   "outputs": [],
   "source": [
    "with open(\"../models/telco_user_experience.pkl\", \"rb\") as f:\n",
    "    model_user_experience = pickle.load(f)"
   ]
  },
  {
   "cell_type": "markdown",
   "metadata": {},
   "source": [
    "#### Engagement Score"
   ]
  },
  {
   "cell_type": "code",
   "execution_count": 4,
   "metadata": {},
   "outputs": [],
   "source": [
    "df_engagement = df_telco_user_engagement.set_index('MSISDN/Number')[\n",
    "    ['xDR Sessions', 'Dur (ms)', 'Total Data Volume (Bytes)']]"
   ]
  },
  {
   "cell_type": "code",
   "execution_count": 5,
   "metadata": {},
   "outputs": [
    {
     "data": {
      "text/plain": [
       "array([[-0.54866182, -0.14578281,  0.54827419],\n",
       "       [-0.54866182,  0.6146225 , -1.28049119],\n",
       "       [-0.54866182,  0.0693255 , -0.16800992],\n",
       "       ...,\n",
       "       [-0.54866182, -1.41773868,  0.13265469],\n",
       "       [-0.54866182,  0.14027633, -0.46103345],\n",
       "       [-0.54866182,  1.3675591 , -0.1671958 ]])"
      ]
     },
     "execution_count": 5,
     "metadata": {},
     "output_type": "execute_result"
    }
   ],
   "source": [
    "scaler = StandardScaler()\n",
    "scaled_data = scaler.fit_transform(df_engagement)\n",
    "scaled_data\n",
    "#Scaling the data"
   ]
  },
  {
   "cell_type": "code",
   "execution_count": 6,
   "metadata": {},
   "outputs": [
    {
     "data": {
      "text/plain": [
       "array([[-0.69518453, -0.1847148 ,  0.69469339],\n",
       "       [-0.36033465,  0.40365445, -0.84096493],\n",
       "       [-0.94927152,  0.11994406, -0.29068368],\n",
       "       ...,\n",
       "       [-0.35954757, -0.92906865,  0.08693091],\n",
       "       [-0.75133844,  0.19209465, -0.63134   ],\n",
       "       [-0.36997482,  0.9221754 , -0.11274383]])"
      ]
     },
     "execution_count": 6,
     "metadata": {},
     "output_type": "execute_result"
    }
   ],
   "source": [
    "normalized_data = normalize(scaled_data)\n",
    "normalized_data"
   ]
  },
  {
   "cell_type": "code",
   "execution_count": 10,
   "metadata": {},
   "outputs": [
    {
     "data": {
      "text/html": [
       "<div>\n",
       "<style scoped>\n",
       "    .dataframe tbody tr th:only-of-type {\n",
       "        vertical-align: middle;\n",
       "    }\n",
       "\n",
       "    .dataframe tbody tr th {\n",
       "        vertical-align: top;\n",
       "    }\n",
       "\n",
       "    .dataframe thead th {\n",
       "        text-align: right;\n",
       "    }\n",
       "</style>\n",
       "<table border=\"1\" class=\"dataframe\">\n",
       "  <thead>\n",
       "    <tr style=\"text-align: right;\">\n",
       "      <th></th>\n",
       "      <th>MSISDN/Number</th>\n",
       "      <th>cluster</th>\n",
       "      <th>xDR Sessions</th>\n",
       "      <th>Dur (ms)</th>\n",
       "      <th>Total Data Volume (Bytes)</th>\n",
       "      <th>engagement_score</th>\n",
       "    </tr>\n",
       "  </thead>\n",
       "  <tbody>\n",
       "    <tr>\n",
       "      <th>0</th>\n",
       "      <td>33601001722</td>\n",
       "      <td>1</td>\n",
       "      <td>1.0</td>\n",
       "      <td>116720140.0</td>\n",
       "      <td>8.786906e+08</td>\n",
       "      <td>1.516102</td>\n",
       "    </tr>\n",
       "    <tr>\n",
       "      <th>1</th>\n",
       "      <td>33601001754</td>\n",
       "      <td>0</td>\n",
       "      <td>1.0</td>\n",
       "      <td>181230963.0</td>\n",
       "      <td>1.568596e+08</td>\n",
       "      <td>1.584497</td>\n",
       "    </tr>\n",
       "    <tr>\n",
       "      <th>2</th>\n",
       "      <td>33601002511</td>\n",
       "      <td>0</td>\n",
       "      <td>1.0</td>\n",
       "      <td>134969374.0</td>\n",
       "      <td>5.959665e+08</td>\n",
       "      <td>1.755110</td>\n",
       "    </tr>\n",
       "    <tr>\n",
       "      <th>3</th>\n",
       "      <td>33601007832</td>\n",
       "      <td>3</td>\n",
       "      <td>1.0</td>\n",
       "      <td>49878024.0</td>\n",
       "      <td>4.223207e+08</td>\n",
       "      <td>1.890540</td>\n",
       "    </tr>\n",
       "    <tr>\n",
       "      <th>4</th>\n",
       "      <td>33601008617</td>\n",
       "      <td>2</td>\n",
       "      <td>2.0</td>\n",
       "      <td>37104453.0</td>\n",
       "      <td>1.457411e+09</td>\n",
       "      <td>1.075597</td>\n",
       "    </tr>\n",
       "  </tbody>\n",
       "</table>\n",
       "</div>"
      ],
      "text/plain": [
       "   MSISDN/Number  cluster  xDR Sessions     Dur (ms)  \\\n",
       "0    33601001722        1           1.0  116720140.0   \n",
       "1    33601001754        0           1.0  181230963.0   \n",
       "2    33601002511        0           1.0  134969374.0   \n",
       "3    33601007832        3           1.0   49878024.0   \n",
       "4    33601008617        2           2.0   37104453.0   \n",
       "\n",
       "   Total Data Volume (Bytes)  engagement_score  \n",
       "0               8.786906e+08          1.516102  \n",
       "1               1.568596e+08          1.584497  \n",
       "2               5.959665e+08          1.755110  \n",
       "3               4.223207e+08          1.890540  \n",
       "4               1.457411e+09          1.075597  "
      ]
     },
     "execution_count": 10,
     "metadata": {},
     "output_type": "execute_result"
    }
   ],
   "source": [
    "less_engaged_cluster = 5\n",
    "distance = model_user_engagement.fit_transform(normalized_data)\n",
    "distance_from_less_engaged_cluster = list(\n",
    "    map(lambda x: x[less_engaged_cluster], distance))\n",
    "df_telco_user_engagement['engagement_score'] = distance_from_less_engaged_cluster\n",
    "df_telco_user_engagement.head()"
   ]
  },
  {
   "cell_type": "markdown",
   "metadata": {},
   "source": [
    "#### Experience Score"
   ]
  },
  {
   "cell_type": "code",
   "execution_count": 11,
   "metadata": {},
   "outputs": [],
   "source": [
    "df_experience = df_telco_user_experience.set_index('MSISDN/Number')[\n",
    "    ['Total Avg RTT (ms)', 'Total Avg Bearer TP (kbps)', 'Total TCP Retrans. Vol (Bytes)']]"
   ]
  },
  {
   "cell_type": "code",
   "execution_count": 12,
   "metadata": {},
   "outputs": [
    {
     "data": {
      "text/plain": [
       "array([[-0.6592221 , -0.67835113,  0.07974981],\n",
       "       [-0.93025698, -0.67723988,  1.48764748],\n",
       "       [-0.4243252 , -0.67733651,  0.44859557],\n",
       "       ...,\n",
       "       [-0.55080815, -0.18123297, -0.70710815],\n",
       "       [-0.76763605, -0.67641851, -0.6983095 ],\n",
       "       [-0.40625621, -0.6804287 , -0.73574801]])"
      ]
     },
     "execution_count": 12,
     "metadata": {},
     "output_type": "execute_result"
    }
   ],
   "source": [
    "scaler = StandardScaler()\n",
    "scaled_data = scaler.fit_transform(df_experience)\n",
    "scaled_data\n",
    "#Scaling the data"
   ]
  },
  {
   "cell_type": "code",
   "execution_count": 13,
   "metadata": {},
   "outputs": [
    {
     "data": {
      "text/plain": [
       "array([[-0.69445913, -0.71461066,  0.08401263],\n",
       "       [-0.49462677, -0.36009509,  0.79099677],\n",
       "       [-0.46295619, -0.7390019 ,  0.48943616],\n",
       "       ...,\n",
       "       [-0.60233164, -0.1981858 , -0.77325221],\n",
       "       [-0.61969779, -0.54605963, -0.5637318 ],\n",
       "       [-0.37568797, -0.62923071, -0.68038758]])"
      ]
     },
     "execution_count": 13,
     "metadata": {},
     "output_type": "execute_result"
    }
   ],
   "source": [
    "normalized_data = normalize(scaled_data)\n",
    "normalized_data"
   ]
  },
  {
   "cell_type": "code",
   "execution_count": null,
   "metadata": {},
   "outputs": [],
   "source": []
  }
 ],
 "metadata": {
  "interpreter": {
   "hash": "23594bc56d5e7779377c96f362b7b8ee0ca743d7d4ba50996de9368b2850dabe"
  },
  "kernelspec": {
   "display_name": "Python 3.9.7 ('base')",
   "language": "python",
   "name": "python3"
  },
  "language_info": {
   "codemirror_mode": {
    "name": "ipython",
    "version": 3
   },
   "file_extension": ".py",
   "mimetype": "text/x-python",
   "name": "python",
   "nbconvert_exporter": "python",
   "pygments_lexer": "ipython3",
   "version": "3.9.7"
  },
  "orig_nbformat": 4
 },
 "nbformat": 4,
 "nbformat_minor": 2
}
